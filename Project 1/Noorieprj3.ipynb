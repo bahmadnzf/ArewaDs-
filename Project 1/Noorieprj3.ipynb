{
 "cells": [
  {
   "cell_type": "markdown",
   "metadata": {},
   "source": [
    "CREATING A DICE \n"
   ]
  },
  {
   "cell_type": "code",
   "execution_count": 1,
   "metadata": {},
   "outputs": [
    {
     "name": "stdout",
     "output_type": "stream",
     "text": [
      "[1, 1, 5, 3, 1, 1, 4, 5, 4, 5, 2, 6, 1, 4, 3, 1, 2, 4, 6, 6, 2, 5, 4, 4, 6, 6, 3, 1, 4, 2, 5, 3, 5, 2, 1, 4, 6, 1, 1, 1, 4, 1, 5, 4, 6, 6, 2, 6, 3, 3, 5, 3, 5, 3, 2, 1, 4, 4, 5, 3, 3, 2, 6, 5, 6, 1, 4, 1, 6, 1, 5, 1, 5, 2, 1, 6, 2, 3, 4, 2, 1, 4, 4, 4, 3, 3, 4, 3, 2, 5, 6, 4, 5, 1, 5, 6, 2, 2, 4, 1]\n"
     ]
    }
   ],
   "source": [
    "from random import randint\n",
    "class Die():\n",
    "    \"\"\"A class representing a single die.\"\"\"\n",
    "    def __init__(self, num_sides=6):\n",
    "        self.num_sides=num_sides\n",
    "    \n",
    "    def roll(self):\n",
    "        \"\"\"Return  a random value between 1 and number of sides.\"\"\"\n",
    "        return randint(1, self.num_sides)\n",
    "   \n",
    "#Create a Die\n",
    "die=Die()\n",
    "\n",
    "#Make some rolls, and store results in a list.\n",
    "results=[]\n",
    "for roll_num in range(100):\n",
    "    result=die.roll()\n",
    "    results.append(result)\n",
    "\n",
    "print(results)\n",
    "\n"
   ]
  },
  {
   "cell_type": "code",
   "execution_count": 2,
   "metadata": {},
   "outputs": [
    {
     "name": "stdout",
     "output_type": "stream",
     "text": [
      "[6, 4, 1, 5, 3, 2, 3, 6, 4, 1, 6, 4, 2, 5, 5, 3, 2, 5, 3, 5, 3, 1, 5, 4, 4, 2, 6, 3, 1, 4, 4, 3, 6, 6, 1, 4, 1, 5, 3, 5, 1, 3, 1, 2, 6, 3, 5, 1, 1, 3, 6, 6, 3, 1, 2, 6, 3, 3, 5, 5, 1, 2, 4, 1, 4, 2, 4, 1, 6, 5, 2, 5, 4, 1, 1, 2, 1, 4, 3, 2, 4, 5, 2, 5, 6, 6, 5, 6, 2, 4, 4, 6, 1, 1, 2, 6, 4, 3, 6, 5]\n",
      "[4, 1, 4, 5, 5, 3, 3, 5, 4, 3, 6, 3, 3, 6, 5, 5, 2, 6, 1, 2, 3, 3, 1, 6, 1, 3, 3, 5, 5, 2, 1, 3, 6, 3, 6, 6, 6, 3, 2, 4, 4, 5, 5, 2, 3, 2, 4, 5, 6, 1, 4, 5, 6, 6, 3, 2, 1, 2, 5, 2, 6, 3, 3, 4, 4, 1, 1, 5, 4, 4, 4, 2, 1, 5, 4, 3, 3, 2, 4, 6, 1, 4, 6, 2, 2, 4, 1, 2, 5, 6, 6, 6, 6, 2, 6, 6, 5, 2, 5, 1]\n"
     ]
    }
   ],
   "source": [
    "from die import Die\n",
    "#Create a Die\n",
    "die=Die()\n",
    "\n",
    "#Make some rolls, and store results in a list.\n",
    "results=[]\n",
    "for roll_num in range(100):\n",
    "    result=die.roll()\n",
    "    results.append(result)\n",
    "\n",
    "print(results)\n"
   ]
  },
  {
   "cell_type": "code",
   "execution_count": 7,
   "metadata": {},
   "outputs": [
    {
     "name": "stdout",
     "output_type": "stream",
     "text": [
      "[160, 163, 163, 174, 189, 151]\n"
     ]
    }
   ],
   "source": [
    "results=[]\n",
    "for roll_num in range(1000):\n",
    "    result=die.roll()\n",
    "    results.append(result)\n",
    "\n",
    "#Analyze the results.\n",
    "frequencies=[]\n",
    "for value in range(1,die.num_sides+1):\n",
    "    frequency =results.count(value)\n",
    "    frequencies.append(frequency)\n",
    "\n",
    "print(frequencies)"
   ]
  },
  {
   "cell_type": "code",
   "execution_count": null,
   "metadata": {},
   "outputs": [
    {
     "ename": "ValueError",
     "evalue": "All arguments should have the same length. The length of argument `y` is 6, whereas the length of  previously-processed arguments ['x'] is 100",
     "output_type": "error",
     "traceback": [
      "\u001b[1;31m---------------------------------------------------------------------------\u001b[0m",
      "\u001b[1;31mValueError\u001b[0m                                Traceback (most recent call last)",
      "Cell \u001b[1;32mIn[18], line 22\u001b[0m\n\u001b[0;32m     20\u001b[0m title \u001b[38;5;241m=\u001b[39m \u001b[38;5;124m\"\u001b[39m\u001b[38;5;124mResults of Rolling One D6 1,000 Times\u001b[39m\u001b[38;5;124m\"\u001b[39m\n\u001b[0;32m     21\u001b[0m labels \u001b[38;5;241m=\u001b[39m {\u001b[38;5;124m'\u001b[39m\u001b[38;5;124mx\u001b[39m\u001b[38;5;124m'\u001b[39m: \u001b[38;5;124m'\u001b[39m\u001b[38;5;124mResult\u001b[39m\u001b[38;5;124m'\u001b[39m, \u001b[38;5;124m'\u001b[39m\u001b[38;5;124my\u001b[39m\u001b[38;5;124m'\u001b[39m: \u001b[38;5;124m'\u001b[39m\u001b[38;5;124mFrequency of Result\u001b[39m\u001b[38;5;124m'\u001b[39m}\n\u001b[1;32m---> 22\u001b[0m fig \u001b[38;5;241m=\u001b[39m \u001b[43mpx\u001b[49m\u001b[38;5;241;43m.\u001b[39;49m\u001b[43mbar\u001b[49m\u001b[43m(\u001b[49m\u001b[43mx\u001b[49m\u001b[38;5;241;43m=\u001b[39;49m\u001b[43mresults\u001b[49m\u001b[43m,\u001b[49m\u001b[43m \u001b[49m\u001b[43my\u001b[49m\u001b[38;5;241;43m=\u001b[39;49m\u001b[43mfrequencies\u001b[49m\u001b[43m,\u001b[49m\u001b[43m \u001b[49m\n\u001b[0;32m     23\u001b[0m \u001b[43mtitle\u001b[49m\u001b[38;5;241;43m=\u001b[39;49m\u001b[43mtitle\u001b[49m\u001b[43m,\u001b[49m\u001b[43m \u001b[49m\u001b[43mlabels\u001b[49m\u001b[38;5;241;43m=\u001b[39;49m\u001b[43mlabels\u001b[49m\u001b[43m)\u001b[49m\n\u001b[0;32m     24\u001b[0m fig\u001b[38;5;241m.\u001b[39mshow()\n",
      "File \u001b[1;32mc:\\Users\\Win11\\AppData\\Local\\Programs\\Python\\Python313\\Lib\\site-packages\\plotly\\express\\_chart_types.py:373\u001b[0m, in \u001b[0;36mbar\u001b[1;34m(data_frame, x, y, color, pattern_shape, facet_row, facet_col, facet_col_wrap, facet_row_spacing, facet_col_spacing, hover_name, hover_data, custom_data, text, base, error_x, error_x_minus, error_y, error_y_minus, animation_frame, animation_group, category_orders, labels, color_discrete_sequence, color_discrete_map, color_continuous_scale, pattern_shape_sequence, pattern_shape_map, range_color, color_continuous_midpoint, opacity, orientation, barmode, log_x, log_y, range_x, range_y, text_auto, title, template, width, height)\u001b[0m\n\u001b[0;32m    325\u001b[0m \u001b[38;5;28;01mdef\u001b[39;00m \u001b[38;5;21mbar\u001b[39m(\n\u001b[0;32m    326\u001b[0m     data_frame\u001b[38;5;241m=\u001b[39m\u001b[38;5;28;01mNone\u001b[39;00m,\n\u001b[0;32m    327\u001b[0m     x\u001b[38;5;241m=\u001b[39m\u001b[38;5;28;01mNone\u001b[39;00m,\n\u001b[1;32m   (...)\u001b[0m\n\u001b[0;32m    367\u001b[0m     height\u001b[38;5;241m=\u001b[39m\u001b[38;5;28;01mNone\u001b[39;00m,\n\u001b[0;32m    368\u001b[0m ) \u001b[38;5;241m-\u001b[39m\u001b[38;5;241m>\u001b[39m go\u001b[38;5;241m.\u001b[39mFigure:\n\u001b[0;32m    369\u001b[0m \u001b[38;5;250m    \u001b[39m\u001b[38;5;124;03m\"\"\"\u001b[39;00m\n\u001b[0;32m    370\u001b[0m \u001b[38;5;124;03m    In a bar plot, each row of `data_frame` is represented as a rectangular\u001b[39;00m\n\u001b[0;32m    371\u001b[0m \u001b[38;5;124;03m    mark.\u001b[39;00m\n\u001b[0;32m    372\u001b[0m \u001b[38;5;124;03m    \"\"\"\u001b[39;00m\n\u001b[1;32m--> 373\u001b[0m     \u001b[38;5;28;01mreturn\u001b[39;00m \u001b[43mmake_figure\u001b[49m\u001b[43m(\u001b[49m\n\u001b[0;32m    374\u001b[0m \u001b[43m        \u001b[49m\u001b[43margs\u001b[49m\u001b[38;5;241;43m=\u001b[39;49m\u001b[38;5;28;43mlocals\u001b[39;49m\u001b[43m(\u001b[49m\u001b[43m)\u001b[49m\u001b[43m,\u001b[49m\n\u001b[0;32m    375\u001b[0m \u001b[43m        \u001b[49m\u001b[43mconstructor\u001b[49m\u001b[38;5;241;43m=\u001b[39;49m\u001b[43mgo\u001b[49m\u001b[38;5;241;43m.\u001b[39;49m\u001b[43mBar\u001b[49m\u001b[43m,\u001b[49m\n\u001b[0;32m    376\u001b[0m \u001b[43m        \u001b[49m\u001b[43mtrace_patch\u001b[49m\u001b[38;5;241;43m=\u001b[39;49m\u001b[38;5;28;43mdict\u001b[39;49m\u001b[43m(\u001b[49m\u001b[43mtextposition\u001b[49m\u001b[38;5;241;43m=\u001b[39;49m\u001b[38;5;124;43m\"\u001b[39;49m\u001b[38;5;124;43mauto\u001b[39;49m\u001b[38;5;124;43m\"\u001b[39;49m\u001b[43m)\u001b[49m\u001b[43m,\u001b[49m\n\u001b[0;32m    377\u001b[0m \u001b[43m        \u001b[49m\u001b[43mlayout_patch\u001b[49m\u001b[38;5;241;43m=\u001b[39;49m\u001b[38;5;28;43mdict\u001b[39;49m\u001b[43m(\u001b[49m\u001b[43mbarmode\u001b[49m\u001b[38;5;241;43m=\u001b[39;49m\u001b[43mbarmode\u001b[49m\u001b[43m)\u001b[49m\u001b[43m,\u001b[49m\n\u001b[0;32m    378\u001b[0m \u001b[43m    \u001b[49m\u001b[43m)\u001b[49m\n",
      "File \u001b[1;32mc:\\Users\\Win11\\AppData\\Local\\Programs\\Python\\Python313\\Lib\\site-packages\\plotly\\express\\_core.py:2117\u001b[0m, in \u001b[0;36mmake_figure\u001b[1;34m(args, constructor, trace_patch, layout_patch)\u001b[0m\n\u001b[0;32m   2114\u001b[0m layout_patch \u001b[38;5;241m=\u001b[39m layout_patch \u001b[38;5;129;01mor\u001b[39;00m {}\n\u001b[0;32m   2115\u001b[0m apply_default_cascade(args)\n\u001b[1;32m-> 2117\u001b[0m args \u001b[38;5;241m=\u001b[39m \u001b[43mbuild_dataframe\u001b[49m\u001b[43m(\u001b[49m\u001b[43margs\u001b[49m\u001b[43m,\u001b[49m\u001b[43m \u001b[49m\u001b[43mconstructor\u001b[49m\u001b[43m)\u001b[49m\n\u001b[0;32m   2118\u001b[0m \u001b[38;5;28;01mif\u001b[39;00m constructor \u001b[38;5;129;01min\u001b[39;00m [go\u001b[38;5;241m.\u001b[39mTreemap, go\u001b[38;5;241m.\u001b[39mSunburst, go\u001b[38;5;241m.\u001b[39mIcicle] \u001b[38;5;129;01mand\u001b[39;00m args[\u001b[38;5;124m\"\u001b[39m\u001b[38;5;124mpath\u001b[39m\u001b[38;5;124m\"\u001b[39m] \u001b[38;5;129;01mis\u001b[39;00m \u001b[38;5;129;01mnot\u001b[39;00m \u001b[38;5;28;01mNone\u001b[39;00m:\n\u001b[0;32m   2119\u001b[0m     args \u001b[38;5;241m=\u001b[39m process_dataframe_hierarchy(args)\n",
      "File \u001b[1;32mc:\\Users\\Win11\\AppData\\Local\\Programs\\Python\\Python313\\Lib\\site-packages\\plotly\\express\\_core.py:1513\u001b[0m, in \u001b[0;36mbuild_dataframe\u001b[1;34m(args, constructor)\u001b[0m\n\u001b[0;32m   1510\u001b[0m     args[\u001b[38;5;124m\"\u001b[39m\u001b[38;5;124mcolor\u001b[39m\u001b[38;5;124m\"\u001b[39m] \u001b[38;5;241m=\u001b[39m \u001b[38;5;28;01mNone\u001b[39;00m\n\u001b[0;32m   1511\u001b[0m \u001b[38;5;66;03m# now that things have been prepped, we do the systematic rewriting of `args`\u001b[39;00m\n\u001b[1;32m-> 1513\u001b[0m df_output, wide_id_vars \u001b[38;5;241m=\u001b[39m \u001b[43mprocess_args_into_dataframe\u001b[49m\u001b[43m(\u001b[49m\n\u001b[0;32m   1514\u001b[0m \u001b[43m    \u001b[49m\u001b[43margs\u001b[49m\u001b[43m,\u001b[49m\u001b[43m \u001b[49m\u001b[43mwide_mode\u001b[49m\u001b[43m,\u001b[49m\u001b[43m \u001b[49m\u001b[43mvar_name\u001b[49m\u001b[43m,\u001b[49m\u001b[43m \u001b[49m\u001b[43mvalue_name\u001b[49m\n\u001b[0;32m   1515\u001b[0m \u001b[43m\u001b[49m\u001b[43m)\u001b[49m\n\u001b[0;32m   1517\u001b[0m \u001b[38;5;66;03m# now that `df_output` exists and `args` contains only references, we complete\u001b[39;00m\n\u001b[0;32m   1518\u001b[0m \u001b[38;5;66;03m# the special-case and wide-mode handling by further rewriting args and/or mutating\u001b[39;00m\n\u001b[0;32m   1519\u001b[0m \u001b[38;5;66;03m# df_output\u001b[39;00m\n\u001b[0;32m   1521\u001b[0m count_name \u001b[38;5;241m=\u001b[39m _escape_col_name(df_output, \u001b[38;5;124m\"\u001b[39m\u001b[38;5;124mcount\u001b[39m\u001b[38;5;124m\"\u001b[39m, [var_name, value_name])\n",
      "File \u001b[1;32mc:\\Users\\Win11\\AppData\\Local\\Programs\\Python\\Python313\\Lib\\site-packages\\plotly\\express\\_core.py:1274\u001b[0m, in \u001b[0;36mprocess_args_into_dataframe\u001b[1;34m(args, wide_mode, var_name, value_name)\u001b[0m\n\u001b[0;32m   1271\u001b[0m         col_name \u001b[38;5;241m=\u001b[39m _check_name_not_reserved(field, reserved_names)\n\u001b[0;32m   1273\u001b[0m     \u001b[38;5;28;01mif\u001b[39;00m length \u001b[38;5;129;01mand\u001b[39;00m \u001b[38;5;28mlen\u001b[39m(argument) \u001b[38;5;241m!=\u001b[39m length:\n\u001b[1;32m-> 1274\u001b[0m         \u001b[38;5;28;01mraise\u001b[39;00m \u001b[38;5;167;01mValueError\u001b[39;00m(\n\u001b[0;32m   1275\u001b[0m             \u001b[38;5;124m\"\u001b[39m\u001b[38;5;124mAll arguments should have the same length. \u001b[39m\u001b[38;5;124m\"\u001b[39m\n\u001b[0;32m   1276\u001b[0m             \u001b[38;5;124m\"\u001b[39m\u001b[38;5;124mThe length of argument `\u001b[39m\u001b[38;5;132;01m%s\u001b[39;00m\u001b[38;5;124m` is \u001b[39m\u001b[38;5;132;01m%d\u001b[39;00m\u001b[38;5;124m, whereas the \u001b[39m\u001b[38;5;124m\"\u001b[39m\n\u001b[0;32m   1277\u001b[0m             \u001b[38;5;124m\"\u001b[39m\u001b[38;5;124mlength of  previously-processed arguments \u001b[39m\u001b[38;5;132;01m%s\u001b[39;00m\u001b[38;5;124m is \u001b[39m\u001b[38;5;132;01m%d\u001b[39;00m\u001b[38;5;124m\"\u001b[39m\n\u001b[0;32m   1278\u001b[0m             \u001b[38;5;241m%\u001b[39m (field, \u001b[38;5;28mlen\u001b[39m(argument), \u001b[38;5;28mstr\u001b[39m(\u001b[38;5;28mlist\u001b[39m(df_output\u001b[38;5;241m.\u001b[39mkeys())), length)\n\u001b[0;32m   1279\u001b[0m         )\n\u001b[0;32m   1280\u001b[0m     df_output[\u001b[38;5;28mstr\u001b[39m(col_name)] \u001b[38;5;241m=\u001b[39m to_unindexed_series(argument, \u001b[38;5;28mstr\u001b[39m(col_name))\n\u001b[0;32m   1282\u001b[0m \u001b[38;5;66;03m# Finally, update argument with column name now that column exists\u001b[39;00m\n",
      "\u001b[1;31mValueError\u001b[0m: All arguments should have the same length. The length of argument `y` is 6, whereas the length of  previously-processed arguments ['x'] is 100"
     ]
    }
   ],
   "source": [
    "import plotly.express as px  \n",
    "from die import Die  \n",
    "\n",
    "# Create a Die  \n",
    "die = Die()  \n",
    "\n",
    "# Make some rolls, and store results in a list.  \n",
    "results = []  \n",
    "for roll_num in range(1000):  \n",
    "    result = die.roll()  \n",
    "    results.append(result)  \n",
    "\n",
    "# Calculate frequencies of each outcome  \n",
    "frequencies = []  # Initialize the frequencies list  \n",
    "for value in set(results):  # Use set to avoid duplicate counting  \n",
    "    frequency = results.count(value)  \n",
    "    frequencies.append(frequency)  \n",
    "\n",
    "# Visualize the results.  \n",
    "title = \"Results of Rolling One D6 1,000 Times\"\n",
    "labels = {'x': 'Result', 'y': 'Frequency of Result'}\n",
    "fig = px.bar(x=results, y=frequencies, \n",
    "title=title, labels=labels)\n",
    "fig.show()\n"
   ]
  },
  {
   "cell_type": "code",
   "execution_count": null,
   "metadata": {},
   "outputs": [
    {
     "ename": "",
     "evalue": "",
     "output_type": "error",
     "traceback": [
      "\u001b[1;31mFailed to interrupt the Kernel. \n",
      "\u001b[1;31mUnable to start Kernel 'Python 3.13.0' due to a timeout waiting for the ports to get used. \n",
      "\u001b[1;31mView Jupyter <a href='command:jupyter.viewOutput'>log</a> for further details."
     ]
    }
   ],
   "source": [
    "import matplotlib.pyplot as plt  \n",
    "from die import Die  \n",
    "\n",
    "# Create a Die instance  \n",
    "die = Die()  \n",
    "\n",
    "# Roll the die 100 times and store the results in a list  \n",
    "results = [die.roll() for _ in range(100)]  \n",
    "\n",
    "# Calculate the frequency of each unique outcome  \n",
    "frequencies = []  \n",
    "unique_results = list(set(results))  # Get unique results  \n",
    "\n",
    "# Count frequencies for each unique die roll  \n",
    "for value in unique_results:  \n",
    "    frequency = results.count(value)  \n",
    "    frequencies.append(frequency)  \n",
    "\n",
    "# Sort the results for better visualization  \n",
    "sorted_pairs = sorted(zip(unique_results, frequencies))  \n",
    "sorted_unique_results, sorted_frequencies = zip(*sorted_pairs)  \n",
    "\n",
    "# Visualize the results with Matplotlib instead of Plotly  \n",
    "plt.bar(sorted_unique_results, sorted_frequencies)  \n",
    "plt.xlabel('Die Faces')  \n",
    "plt.ylabel('Frequency')  \n",
    "plt.title('Results of Rolling a Die 100 Times')  \n",
    "plt.show()"
   ]
  },
  {
   "cell_type": "code",
   "execution_count": 3,
   "metadata": {},
   "outputs": [],
   "source": [
    "import pygal\n",
    "\n",
    "frequencies=[]\n",
    "for value in range(1,die.num_sides+1):\n",
    "    frequency =results.count(value)\n",
    "    frequencies.append(frequency)\n",
    "#Visualize the results\n",
    "hist=pygal.Bar()\n",
    "hist.title='Results of rolling one D6 1000 times.'\n",
    "hist.x_labels= ['1','2','3','4','5','6']\n",
    "hist.x_title='Result'\n",
    "hist.y_title='Frequency of Result'\n",
    "hist.add('D6', frequencies)\n",
    "hist.render_to_file('die_visual.svg')"
   ]
  },
  {
   "cell_type": "code",
   "execution_count": 9,
   "metadata": {},
   "outputs": [],
   "source": [
    "import pygal\n",
    "from die import Die\n",
    "\n",
    "#Create two D6 dice.\n",
    "die_1=Die()\n",
    "die_2=Die()\n",
    "\n",
    "#Make some rolls, and store results in a list.\n",
    "results=[]\n",
    "for roll_num in range(1000):\n",
    "    result=die_1.roll()+die_2.roll()\n",
    "    results.append(result)\n",
    "\n",
    "#Analyze the results.\n",
    "frequencies=[]\n",
    "max_result= die_1.num_sides + die_2.num_sides\n",
    "for value in range(2, max_result+1):\n",
    "    frequency =results.count(value)\n",
    "    frequencies.append(frequency)\n",
    "\n",
    "#Visualize the results\n",
    "hist=pygal.Bar()\n",
    "hist.title='Results of rolling two D6 1000 times.'\n",
    "hist.x_labels= ['2','3','4','5','6','7','8','9','10','11','12']\n",
    "hist.x_title='Result'\n",
    "hist.y_title='Frequency of Result'\n",
    "hist.add('D6 + D6', frequencies)\n",
    "hist.render_to_file('dice_visual.svg')"
   ]
  },
  {
   "cell_type": "code",
   "execution_count": 12,
   "metadata": {},
   "outputs": [],
   "source": [
    "import pygal\n",
    "from die import Die\n",
    "\n",
    "#Create two D6 dice.\n",
    "die_1=Die()\n",
    "die_2=Die(10)\n",
    "\n",
    "#Make some rolls, and store results in a list.\n",
    "results=[]\n",
    "for roll_num in range(50000):\n",
    "    result=die_1.roll()+die_2.roll()\n",
    "    results.append(result)\n",
    "\n",
    "#Analyze the results.\n",
    "frequencies=[]\n",
    "max_result= die_1.num_sides + die_2.num_sides\n",
    "for value in range(2, max_result+1):\n",
    "    frequency =results.count(value)\n",
    "    frequencies.append(frequency)\n",
    "\n",
    "#Visualize the results\n",
    "hist=pygal.Bar()\n",
    "hist.title='Results of rolling a  D6 and a D10 50,000 times.'\n",
    "hist.x_labels= ['2','3','4','5','6','7','8','9','10','11','12','13','14','15','16']\n",
    "hist.x_title='Result'\n",
    "hist.y_title='Frequency of Result'\n",
    "hist.add('D6 + D10', frequencies)\n",
    "hist.render_to_file('dice_2_visual.svg')"
   ]
  },
  {
   "cell_type": "markdown",
   "metadata": {},
   "source": [
    "Try it Youself\n",
    "15.6"
   ]
  },
  {
   "cell_type": "code",
   "execution_count": 5,
   "metadata": {},
   "outputs": [],
   "source": [
    "from random import randint  \n",
    "import pygal  \n",
    "\n",
    "class Die:  \n",
    "    \"\"\"A class representing a single die.\"\"\"  \n",
    "    def __init__(self, num_sides=8):  \n",
    "        self.num_sides = num_sides  \n",
    "    \n",
    "    def roll(self):  \n",
    "        \"\"\"Return a random value between 1 and number of sides.\"\"\"  \n",
    "        return randint(1, self.num_sides)  \n",
    "\n",
    "# Create two D8 dice  \n",
    "die_1 = Die()  \n",
    "die_2 = Die()  \n",
    "\n",
    "# Make some rolls and store results in a list  \n",
    "results = []  \n",
    "for roll_num in range(1000):  \n",
    "    result = die_1.roll() + die_2.roll()  \n",
    "    results.append(result)  \n",
    "\n",
    "# Analyze the results  \n",
    "frequencies = []  \n",
    "max_result = die_1.num_sides + die_2.num_sides  \n",
    "for value in range(2, max_result + 1):  \n",
    "    frequency = results.count(value)  \n",
    "    frequencies.append(frequency)  \n",
    "\n",
    "# Visualize the results  \n",
    "hist = pygal.Bar()  \n",
    "hist.title = 'Results of Rolling Two D8s 1,000 Times'  \n",
    "hist.x_labels = [str(x) for x in range(2, 17)]  # Results from 2 to 16  \n",
    "hist.x_title = 'Result'  \n",
    "hist.y_title = 'Frequency of Result'  \n",
    "hist.add('D8 + D8', frequencies)  \n",
    "hist.render_to_file('two_d8s_visual.svg')"
   ]
  },
  {
   "cell_type": "markdown",
   "metadata": {},
   "source": [
    "15.7"
   ]
  },
  {
   "cell_type": "code",
   "execution_count": 1,
   "metadata": {},
   "outputs": [],
   "source": [
    "from random import randint  \n",
    "import pygal  \n",
    "\n",
    "class Die:  \n",
    "    \"\"\"A class representing a single die.\"\"\"  \n",
    "    def __init__(self, num_sides=6):  \n",
    "        self.num_sides = num_sides  \n",
    "    \n",
    "    def roll(self):  \n",
    "        \"\"\"Return a random value between 1 and number of sides.\"\"\"  \n",
    "        return randint(1, self.num_sides)  \n",
    "\n",
    "# Create three D6 dice  \n",
    "die_1 = Die()  \n",
    "die_2 = Die()  \n",
    "die_3 = Die()  \n",
    "\n",
    "# Make some rolls and store results in a list  \n",
    "results = []  \n",
    "for roll_num in range(1000):  \n",
    "    result = die_1.roll() + die_2.roll() + die_3.roll()  \n",
    "    results.append(result)  \n",
    "\n",
    "# Analyze the results  \n",
    "frequencies = []  \n",
    "max_result = die_1.num_sides + die_2.num_sides + die_3.num_sides  \n",
    "for value in range(3, max_result + 1):  \n",
    "    frequency = results.count(value)  \n",
    "    frequencies.append(frequency)  \n",
    "\n",
    "# Visualize the results  \n",
    "hist = pygal.Bar()  \n",
    "hist.title = 'Results of Rolling Three D6s 1,000 Times'  \n",
    "hist.x_labels = [str(x) for x in range(3, 19)]  # Results from 3 to 18  \n",
    "hist.x_title = 'Result'  \n",
    "hist.y_title = 'Frequency of Result'  \n",
    "hist.add('D6 + D6 + D6', frequencies)  \n",
    "hist.render_to_file('three_d6s_visual.svg')"
   ]
  },
  {
   "cell_type": "markdown",
   "metadata": {},
   "source": [
    "15.8"
   ]
  },
  {
   "cell_type": "code",
   "execution_count": 2,
   "metadata": {},
   "outputs": [],
   "source": [
    "from random import randint  \n",
    "import pygal  \n",
    "\n",
    "class Die:  \n",
    "    \"\"\"A class representing a single die.\"\"\"  \n",
    "    def __init__(self, num_sides=6):  \n",
    "        self.num_sides = num_sides  \n",
    "    \n",
    "    def roll(self):  \n",
    "        \"\"\"Return a random value between 1 and number of sides.\"\"\"  \n",
    "        return randint(1, self.num_sides)  \n",
    "\n",
    "# Create two D6 dice  \n",
    "die_1 = Die()  \n",
    "die_2 = Die()  \n",
    "\n",
    "# Make some rolls and store results in a list  \n",
    "results = []  \n",
    "for roll_num in range(1000):  \n",
    "    result = die_1.roll() * die_2.roll()  \n",
    "    results.append(result)  \n",
    "\n",
    "# Analyze the results  \n",
    "frequencies = []  \n",
    "max_result = die_1.num_sides * die_2.num_sides  \n",
    "for value in range(1, max_result + 1):  \n",
    "    frequency = results.count(value)  \n",
    "    frequencies.append(frequency)  \n",
    "\n",
    "# Visualize the results  \n",
    "hist = pygal.Bar()  \n",
    "hist.title = 'Results of Multiplying Two D6s 1,000 Times'  \n",
    "hist.x_labels = [str(x) for x in range(1, 37)]  # Results from 1 to 36  \n",
    "hist.x_title = 'Result'  \n",
    "hist.y_title = 'Frequency of Result'  \n",
    "hist.add('D6 * D6', frequencies)  \n",
    "hist.render_to_file('multiply_d6s_visual.svg')"
   ]
  },
  {
   "cell_type": "markdown",
   "metadata": {},
   "source": [
    "15.9"
   ]
  },
  {
   "cell_type": "code",
   "execution_count": null,
   "metadata": {},
   "outputs": [],
   "source": [
    "results = [die_1.roll() + die_2.roll() + die_3.roll() for _ in range(1000)]"
   ]
  },
  {
   "cell_type": "code",
   "execution_count": 3,
   "metadata": {},
   "outputs": [
    {
     "data": {
      "image/png": "[encoded data removed]",
      "text/plain": [
       "<Figure size 640x480 with 1 Axes>"
      ]
     },
     "metadata": {},
     "output_type": "display_data"
    }
   ],
   "source": [
    "from random import randint  \n",
    "import matplotlib.pyplot as plt  \n",
    "\n",
    "class Die:  \n",
    "    \"\"\"A class representing a single die.\"\"\"  \n",
    "    def __init__(self, num_sides=6):  \n",
    "        self.num_sides = num_sides  \n",
    "    \n",
    "    def roll(self):  \n",
    "        \"\"\"Return a random value between 1 and number of sides.\"\"\"  \n",
    "        return randint(1, self.num_sides)  \n",
    "\n",
    "# Create a D6 die  \n",
    "die = Die()  \n",
    "\n",
    "# Make some rolls and store results in a list  \n",
    "results = [die.roll() for _ in range(1000)]  \n",
    "\n",
    "# Visualize the results with Matplotlib  \n",
    "plt.hist(results, bins=range(1, 8), align='left', edgecolor='black')  \n",
    "plt.xlabel('Die Faces')  \n",
    "plt.ylabel('Frequency')  \n",
    "plt.title('Rolling a D6 1,000 Times')  \n",
    "plt.xticks(range(1, 7))  \n",
    "plt.show()"
   ]
  },
  {
   "cell_type": "code",
   "execution_count": 4,
   "metadata": {},
   "outputs": [
    {
     "data": {
      "application/vnd.plotly.v1+json": {
       "config": {
        "plotlyServerURL": "https://plot.ly"
       },
       "data": [
        {
         "mode": "lines",
         "name": "Random Walk",
         "type": "scatter",
         "y": [
          -1,
          0,
          1,
          2,
          1,
          2,
          1,
          0,
          -1,
          0,
          1,
          0,
          -1,
          -2,
          -3,
          -2,
          -1,
          0,
          1,
          0,
          1,
          0,
          -1,
          0,
          -1,
          -2,
          -1,
          0,
          1,
          0,
          1,
          0,
          -1,
          0,
          1,
          2,
          3,
          2,
          3,
          4,
          5,
          4,
          5,
          4,
          5,
          4,
          3,
          2,
          3,
          2,
          1,
          0,
          -1,
          0,
          1,
          2,
          1,
          0,
          1,
          2,
          3,
          2,
          1,
          0,
          1,
          0,
          -1,
          0,
          1,
          0,
          1,
          2,
          3,
          2,
          1,
          0,
          -1,
          -2,
          -1,
          -2,
          -3,
          -2,
          -3,
          -2,
          -1,
          0,
          1,
          0,
          1,
          0,
          -1,
          0,
          1,
          0,
          1,
          2,
          1,
          0,
          1,
          0,
          -1,
          0,
          -1,
          0,
          -1,
          -2,
          -1,
          -2,
          -1,
          0,
          -1,
          0,
          1,
          2,
          1,
          0,
          -1,
          0,
          -1,
          -2,
          -3,
          -2,
          -1,
          -2,
          -1,
          -2,
          -3,
          -2,
          -1,
          0,
          -1,
          -2,
          -3,
          -4,
          -5,
          -6,
          -5,
          -4,
          -3,
          -4,
          -3,
          -2,
          -3,
          -4,
          -3,
          -4,
          -5,
          -4,
          -5,
          -6,
          -5,
          -4,
          -5,
          -4,
          -5,
          -4,
          -3,
          -4,
          -3,
          -2,
          -3,
          -2,
          -1,
          0,
          -1,
          0,
          -1,
          -2,
          -1,
          0,
          -1,
          0,
          -1,
          -2,
          -3,
          -2,
          -1,
          0,
          1,
          0,
          1,
          0,
          -1,
          0,
          1,
          2,
          3,
          4,
          5,
          4,
          5,
          4,
          3,
          2,
          3,
          2,
          3,
          2,
          3,
          4,
          5,
          6,
          7,
          6,
          5,
          6,
          7,
          6,
          5,
          4,
          3,
          2,
          3,
          4,
          3,
          4,
          3,
          2,
          1,
          0,
          1,
          0,
          1,
          2,
          1,
          0,
          -1,
          -2,
          -3,
          -4,
          -3,
          -4,
          -3,
          -4,
          -3,
          -2,
          -1,
          -2,
          -3,
          -4,
          -3,
          -2,
          -1,
          0,
          -1,
          0,
          -1,
          -2,
          -1,
          0,
          -1,
          -2,
          -1,
          -2,
          -1,
          -2,
          -3,
          -2,
          -3,
          -2,
          -1,
          -2,
          -1,
          -2,
          -3,
          -2,
          -3,
          -4,
          -5,
          -6,
          -5,
          -4,
          -5,
          -4,
          -3,
          -2,
          -3,
          -4,
          -3,
          -2,
          -3,
          -2,
          -3,
          -2,
          -1,
          0,
          1,
          0,
          1,
          0,
          1,
          2,
          1,
          2,
          1,
          0,
          1,
          0,
          -1,
          -2,
          -1,
          -2,
          -3,
          -4,
          -5,
          -4,
          -3,
          -4,
          -5,
          -4,
          -3,
          -2,
          -1,
          0,
          1,
          0,
          1,
          0,
          -1,
          -2,
          -3,
          -4,
          -5,
          -4,
          -3,
          -4,
          -5,
          -6,
          -5,
          -6,
          -7,
          -6,
          -5,
          -6,
          -7,
          -8,
          -9,
          -10,
          -11,
          -12,
          -11,
          -12,
          -11,
          -10,
          -9,
          -10,
          -11,
          -10,
          -9,
          -10,
          -11,
          -12,
          -11,
          -12,
          -13,
          -12,
          -11,
          -12,
          -13,
          -12,
          -11,
          -12,
          -11,
          -10,
          -11,
          -12,
          -11,
          -10,
          -9,
          -8,
          -7,
          -8,
          -7,
          -8,
          -7,
          -8,
          -7,
          -6,
          -5,
          -4,
          -5,
          -4,
          -3,
          -4,
          -3,
          -4,
          -5,
          -6,
          -5,
          -6,
          -7,
          -8,
          -7,
          -6,
          -5,
          -6,
          -7,
          -6,
          -5,
          -6,
          -5,
          -4,
          -5,
          -6,
          -7,
          -8,
          -9,
          -10,
          -11,
          -10,
          -11,
          -10,
          -11,
          -10,
          -11,
          -12,
          -11,
          -10,
          -9,
          -10,
          -9,
          -8,
          -7,
          -6,
          -5,
          -4,
          -5,
          -6,
          -5,
          -6,
          -7,
          -6,
          -5,
          -4,
          -5,
          -6,
          -7,
          -6,
          -5,
          -6,
          -5,
          -4,
          -5,
          -6,
          -5,
          -4,
          -5,
          -6,
          -5,
          -6,
          -7,
          -8,
          -9,
          -8,
          -7,
          -8,
          -7,
          -6,
          -5,
          -4,
          -3,
          -2,
          -3,
          -2,
          -3,
          -2,
          -1,
          -2,
          -1,
          -2,
          -3,
          -2,
          -1,
          -2,
          -3,
          -4,
          -3,
          -2,
          -3,
          -2,
          -3,
          -2,
          -3,
          -4,
          -3,
          -4,
          -3,
          -4,
          -5,
          -6,
          -7,
          -8,
          -9,
          -8,
          -7,
          -6,
          -5,
          -6,
          -7,
          -6,
          -5,
          -4,
          -3,
          -4,
          -3,
          -2,
          -1,
          0,
          -1,
          0,
          -1,
          -2,
          -3,
          -4,
          -5,
          -4,
          -3,
          -2,
          -3,
          -4,
          -3,
          -4,
          -3,
          -2,
          -3,
          -4,
          -3,
          -2,
          -3,
          -2,
          -3,
          -2,
          -1,
          0,
          1,
          2,
          1,
          2,
          1,
          0,
          -1,
          -2,
          -3,
          -2,
          -1,
          -2,
          -3,
          -4,
          -5,
          -4,
          -5,
          -4,
          -3,
          -2,
          -1,
          0,
          1,
          0,
          1,
          2,
          1,
          0,
          -1,
          0,
          1,
          2,
          3,
          4,
          5,
          6,
          5,
          6,
          5,
          4,
          5,
          6,
          7,
          8,
          9,
          8,
          9,
          8,
          9,
          10,
          11,
          12,
          13,
          12,
          11,
          12,
          11,
          10,
          9,
          10,
          11,
          12,
          13,
          12,
          13,
          12,
          13,
          14,
          13,
          12,
          11,
          10,
          11,
          10,
          11,
          12,
          13,
          12,
          11,
          12,
          13,
          12,
          11,
          12,
          11,
          10,
          11,
          12,
          11,
          12,
          13,
          12,
          13,
          14,
          15,
          14,
          15,
          14,
          13,
          12,
          13,
          12,
          11,
          12,
          11,
          12,
          11,
          10,
          9,
          8,
          9,
          8,
          9,
          8,
          7,
          8,
          9,
          8,
          7,
          8,
          9,
          10,
          11,
          10,
          11,
          10,
          9,
          8,
          9,
          8,
          9,
          8,
          7,
          6,
          5,
          4,
          5,
          4,
          5,
          6,
          7,
          8,
          9,
          8,
          9,
          10,
          11,
          12,
          11,
          10,
          11,
          12,
          13,
          14,
          15,
          14,
          15,
          14,
          13,
          12,
          13,
          12,
          13,
          12,
          11,
          12,
          13,
          14,
          15,
          16,
          15,
          16,
          15,
          14,
          13,
          12,
          13,
          12,
          11,
          10,
          9,
          8,
          9,
          10,
          11,
          12,
          13,
          12,
          11,
          10,
          9,
          10,
          9,
          10,
          11,
          12,
          13,
          12,
          11,
          10,
          11,
          12,
          13,
          14,
          15,
          16,
          17,
          18,
          17,
          18,
          17,
          18,
          17,
          16,
          15,
          14,
          15,
          16,
          15,
          16,
          17,
          16,
          15,
          16,
          15,
          14,
          15,
          14,
          15,
          14,
          15,
          16,
          15,
          16,
          17,
          18,
          19,
          18,
          19,
          18,
          17,
          18,
          17,
          16,
          17,
          16,
          17,
          18,
          17,
          18,
          19,
          20,
          21,
          22,
          23,
          22,
          23,
          22,
          23,
          22,
          21,
          22,
          23,
          24,
          23,
          22,
          21,
          20,
          21,
          22,
          23,
          24,
          25,
          24,
          23,
          22,
          23,
          22,
          21,
          22,
          23,
          24,
          23,
          22,
          21,
          22,
          23,
          22,
          23,
          24,
          25,
          24,
          25,
          24,
          23,
          24,
          23,
          22,
          23,
          22,
          21,
          20,
          21,
          20,
          21,
          22,
          21,
          22,
          21,
          22,
          23,
          24,
          23,
          22,
          21,
          20,
          21,
          22,
          21,
          22,
          21,
          20,
          19,
          20,
          21,
          20,
          19,
          20,
          21,
          22,
          21,
          20,
          21,
          22,
          23,
          24,
          25,
          24,
          25,
          24,
          23,
          22,
          23,
          24,
          25,
          24,
          23,
          24,
          23,
          22,
          23,
          22,
          21,
          22,
          23,
          24,
          23,
          22,
          23,
          24,
          23,
          24,
          25,
          26,
          27,
          28,
          27,
          28,
          29,
          30,
          29,
          28,
          29,
          28,
          29,
          30,
          29,
          28,
          29,
          30,
          29,
          30,
          29,
          28,
          27,
          26,
          27,
          26,
          25,
          24,
          25,
          26,
          27,
          26,
          27,
          26,
          25,
          24,
          25,
          26,
          27,
          28,
          27,
          28,
          27,
          28,
          27,
          26,
          27,
          26,
          25,
          26,
          27,
          28,
          29,
          28,
          27,
          28,
          27,
          28,
          27,
          28,
          29,
          30,
          31,
          32,
          31,
          30,
          29,
          28,
          27,
          28,
          29,
          30,
          31,
          30,
          29,
          28,
          29,
          28,
          29,
          28,
          29,
          28,
          27,
          26,
          27,
          26,
          25,
          26,
          27,
          26,
          25,
          26,
          25,
          26,
          27,
          26,
          25,
          26,
          27,
          26,
          25,
          24,
          23,
          24
         ]
        }
       ],
       "layout": {
        "template": {
         "data": {
          "bar": [
           {
            "error_x": {
             "color": "#2a3f5f"
            },
            "error_y": {
             "color": "#2a3f5f"
            },
            "marker": {
             "line": {
              "color": "#E5ECF6",
              "width": 0.5
             },
             "pattern": {
              "fillmode": "overlay",
              "size": 10,
              "solidity": 0.2
             }
            },
            "type": "bar"
           }
          ],
          "barpolar": [
           {
            "marker": {
             "line": {
              "color": "#E5ECF6",
              "width": 0.5
             },
             "pattern": {
              "fillmode": "overlay",
              "size": 10,
              "solidity": 0.2
             }
            },
            "type": "barpolar"
           }
          ],
          "carpet": [
           {
            "aaxis": {
             "endlinecolor": "#2a3f5f",
             "gridcolor": "white",
             "linecolor": "white",
             "minorgridcolor": "white",
             "startlinecolor": "#2a3f5f"
            },
            "baxis": {
             "endlinecolor": "#2a3f5f",
             "gridcolor": "white",
             "linecolor": "white",
             "minorgridcolor": "white",
             "startlinecolor": "#2a3f5f"
            },
            "type": "carpet"
           }
          ],
          "choropleth": [
           {
            "colorbar": {
             "outlinewidth": 0,
             "ticks": ""
            },
            "type": "choropleth"
           }
          ],
          "contour": [
           {
            "colorbar": {
             "outlinewidth": 0,
             "ticks": ""
            },
            "colorscale": [
             [
              0,
              "#0d0887"
             ],
             [
              0.1111111111111111,
              "#46039f"
             ],
             [
              0.2222222222222222,
              "#7201a8"
             ],
             [
              0.3333333333333333,
              "#9c179e"
             ],
             [
              0.4444444444444444,
              "#bd3786"
             ],
             [
              0.5555555555555556,
              "#d8576b"
             ],
             [
              0.6666666666666666,
              "#ed7953"
             ],
             [
              0.7777777777777778,
              "#fb9f3a"
             ],
             [
              0.8888888888888888,
              "#fdca26"
             ],
             [
              1,
              "#f0f921"
             ]
            ],
            "type": "contour"
           }
          ],
          "contourcarpet": [
           {
            "colorbar": {
             "outlinewidth": 0,
             "ticks": ""
            },
            "type": "contourcarpet"
           }
          ],
          "heatmap": [
           {
            "colorbar": {
             "outlinewidth": 0,
             "ticks": ""
            },
            "colorscale": [
             [
              0,
              "#0d0887"
             ],
             [
              0.1111111111111111,
              "#46039f"
             ],
             [
              0.2222222222222222,
              "#7201a8"
             ],
             [
              0.3333333333333333,
              "#9c179e"
             ],
             [
              0.4444444444444444,
              "#bd3786"
             ],
             [
              0.5555555555555556,
              "#d8576b"
             ],
             [
              0.6666666666666666,
              "#ed7953"
             ],
             [
              0.7777777777777778,
              "#fb9f3a"
             ],
             [
              0.8888888888888888,
              "#fdca26"
             ],
             [
              1,
              "#f0f921"
             ]
            ],
            "type": "heatmap"
           }
          ],
          "heatmapgl": [
           {
            "colorbar": {
             "outlinewidth": 0,
             "ticks": ""
            },
            "colorscale": [
             [
              0,
              "#0d0887"
             ],
             [
              0.1111111111111111,
              "#46039f"
             ],
             [
              0.2222222222222222,
              "#7201a8"
             ],
             [
              0.3333333333333333,
              "#9c179e"
             ],
             [
              0.4444444444444444,
              "#bd3786"
             ],
             [
              0.5555555555555556,
              "#d8576b"
             ],
             [
              0.6666666666666666,
              "#ed7953"
             ],
             [
              0.7777777777777778,
              "#fb9f3a"
             ],
             [
              0.8888888888888888,
              "#fdca26"
             ],
             [
              1,
              "#f0f921"
             ]
            ],
            "type": "heatmapgl"
           }
          ],
          "histogram": [
           {
            "marker": {
             "pattern": {
              "fillmode": "overlay",
              "size": 10,
              "solidity": 0.2
             }
            },
            "type": "histogram"
           }
          ],
          "histogram2d": [
           {
            "colorbar": {
             "outlinewidth": 0,
             "ticks": ""
            },
            "colorscale": [
             [
              0,
              "#0d0887"
             ],
             [
              0.1111111111111111,
              "#46039f"
             ],
             [
              0.2222222222222222,
              "#7201a8"
             ],
             [
              0.3333333333333333,
              "#9c179e"
             ],
             [
              0.4444444444444444,
              "#bd3786"
             ],
             [
              0.5555555555555556,
              "#d8576b"
             ],
             [
              0.6666666666666666,
              "#ed7953"
             ],
             [
              0.7777777777777778,
              "#fb9f3a"
             ],
             [
              0.8888888888888888,
              "#fdca26"
             ],
             [
              1,
              "#f0f921"
             ]
            ],
            "type": "histogram2d"
           }
          ],
          "histogram2dcontour": [
           {
            "colorbar": {
             "outlinewidth": 0,
             "ticks": ""
            },
            "colorscale": [
             [
              0,
              "#0d0887"
             ],
             [
              0.1111111111111111,
              "#46039f"
             ],
             [
              0.2222222222222222,
              "#7201a8"
             ],
             [
              0.3333333333333333,
              "#9c179e"
             ],
             [
              0.4444444444444444,
              "#bd3786"
             ],
             [
              0.5555555555555556,
              "#d8576b"
             ],
             [
              0.6666666666666666,
              "#ed7953"
             ],
             [
              0.7777777777777778,
              "#fb9f3a"
             ],
             [
              0.8888888888888888,
              "#fdca26"
             ],
             [
              1,
              "#f0f921"
             ]
            ],
            "type": "histogram2dcontour"
           }
          ],
          "mesh3d": [
           {
            "colorbar": {
             "outlinewidth": 0,
             "ticks": ""
            },
            "type": "mesh3d"
           }
          ],
          "parcoords": [
           {
            "line": {
             "colorbar": {
              "outlinewidth": 0,
              "ticks": ""
             }
            },
            "type": "parcoords"
           }
          ],
          "pie": [
           {
            "automargin": true,
            "type": "pie"
           }
          ],
          "scatter": [
           {
            "fillpattern": {
             "fillmode": "overlay",
             "size": 10,
             "solidity": 0.2
            },
            "type": "scatter"
           }
          ],
          "scatter3d": [
           {
            "line": {
             "colorbar": {
              "outlinewidth": 0,
              "ticks": ""
             }
            },
            "marker": {
             "colorbar": {
              "outlinewidth": 0,
              "ticks": ""
             }
            },
            "type": "scatter3d"
           }
          ],
          "scattercarpet": [
           {
            "marker": {
             "colorbar": {
              "outlinewidth": 0,
              "ticks": ""
             }
            },
            "type": "scattercarpet"
           }
          ],
          "scattergeo": [
           {
            "marker": {
             "colorbar": {
              "outlinewidth": 0,
              "ticks": ""
             }
            },
            "type": "scattergeo"
           }
          ],
          "scattergl": [
           {
            "marker": {
             "colorbar": {
              "outlinewidth": 0,
              "ticks": ""
             }
            },
            "type": "scattergl"
           }
          ],
          "scattermapbox": [
           {
            "marker": {
             "colorbar": {
              "outlinewidth": 0,
              "ticks": ""
             }
            },
            "type": "scattermapbox"
           }
          ],
          "scatterpolar": [
           {
            "marker": {
             "colorbar": {
              "outlinewidth": 0,
              "ticks": ""
             }
            },
            "type": "scatterpolar"
           }
          ],
          "scatterpolargl": [
           {
            "marker": {
             "colorbar": {
              "outlinewidth": 0,
              "ticks": ""
             }
            },
            "type": "scatterpolargl"
           }
          ],
          "scatterternary": [
           {
            "marker": {
             "colorbar": {
              "outlinewidth": 0,
              "ticks": ""
             }
            },
            "type": "scatterternary"
           }
          ],
          "surface": [
           {
            "colorbar": {
             "outlinewidth": 0,
             "ticks": ""
            },
            "colorscale": [
             [
              0,
              "#0d0887"
             ],
             [
              0.1111111111111111,
              "#46039f"
             ],
             [
              0.2222222222222222,
              "#7201a8"
             ],
             [
              0.3333333333333333,
              "#9c179e"
             ],
             [
              0.4444444444444444,
              "#bd3786"
             ],
             [
              0.5555555555555556,
              "#d8576b"
             ],
             [
              0.6666666666666666,
              "#ed7953"
             ],
             [
              0.7777777777777778,
              "#fb9f3a"
             ],
             [
              0.8888888888888888,
              "#fdca26"
             ],
             [
              1,
              "#f0f921"
             ]
            ],
            "type": "surface"
           }
          ],
          "table": [
           {
            "cells": {
             "fill": {
              "color": "#EBF0F8"
             },
             "line": {
              "color": "white"
             }
            },
            "header": {
             "fill": {
              "color": "#C8D4E3"
             },
             "line": {
              "color": "white"
             }
            },
            "type": "table"
           }
          ]
         },
         "layout": {
          "annotationdefaults": {
           "arrowcolor": "#2a3f5f",
           "arrowhead": 0,
           "arrowwidth": 1
          },
          "autotypenumbers": "strict",
          "coloraxis": {
           "colorbar": {
            "outlinewidth": 0,
            "ticks": ""
           }
          },
          "colorscale": {
           "diverging": [
            [
             0,
             "#8e0152"
            ],
            [
             0.1,
             "#c51b7d"
            ],
            [
             0.2,
             "#de77ae"
            ],
            [
             0.3,
             "#f1b6da"
            ],
            [
             0.4,
             "#fde0ef"
            ],
            [
             0.5,
             "#f7f7f7"
            ],
            [
             0.6,
             "#e6f5d0"
            ],
            [
             0.7,
             "#b8e186"
            ],
            [
             0.8,
             "#7fbc41"
            ],
            [
             0.9,
             "#4d9221"
            ],
            [
             1,
             "#276419"
            ]
           ],
           "sequential": [
            [
             0,
             "#0d0887"
            ],
            [
             0.1111111111111111,
             "#46039f"
            ],
            [
             0.2222222222222222,
             "#7201a8"
            ],
            [
             0.3333333333333333,
             "#9c179e"
            ],
            [
             0.4444444444444444,
             "#bd3786"
            ],
            [
             0.5555555555555556,
             "#d8576b"
            ],
            [
             0.6666666666666666,
             "#ed7953"
            ],
            [
             0.7777777777777778,
             "#fb9f3a"
            ],
            [
             0.8888888888888888,
             "#fdca26"
            ],
            [
             1,
             "#f0f921"
            ]
           ],
           "sequentialminus": [
            [
             0,
             "#0d0887"
            ],
            [
             0.1111111111111111,
             "#46039f"
            ],
            [
             0.2222222222222222,
             "#7201a8"
            ],
            [
             0.3333333333333333,
             "#9c179e"
            ],
            [
             0.4444444444444444,
             "#bd3786"
            ],
            [
             0.5555555555555556,
             "#d8576b"
            ],
            [
             0.6666666666666666,
             "#ed7953"
            ],
            [
             0.7777777777777778,
             "#fb9f3a"
            ],
            [
             0.8888888888888888,
             "#fdca26"
            ],
            [
             1,
             "#f0f921"
            ]
           ]
          },
          "colorway": [
           "#636efa",
           "#EF553B",
           "#00cc96",
           "#ab63fa",
           "#FFA15A",
           "#19d3f3",
           "#FF6692",
           "#B6E880",
           "#FF97FF",
           "#FECB52"
          ],
          "font": {
           "color": "#2a3f5f"
          },
          "geo": {
           "bgcolor": "white",
           "lakecolor": "white",
           "landcolor": "#E5ECF6",
           "showlakes": true,
           "showland": true,
           "subunitcolor": "white"
          },
          "hoverlabel": {
           "align": "left"
          },
          "hovermode": "closest",
          "mapbox": {
           "style": "light"
          },
          "paper_bgcolor": "white",
          "plot_bgcolor": "#E5ECF6",
          "polar": {
           "angularaxis": {
            "gridcolor": "white",
            "linecolor": "white",
            "ticks": ""
           },
           "bgcolor": "#E5ECF6",
           "radialaxis": {
            "gridcolor": "white",
            "linecolor": "white",
            "ticks": ""
           }
          },
          "scene": {
           "xaxis": {
            "backgroundcolor": "#E5ECF6",
            "gridcolor": "white",
            "gridwidth": 2,
            "linecolor": "white",
            "showbackground": true,
            "ticks": "",
            "zerolinecolor": "white"
           },
           "yaxis": {
            "backgroundcolor": "#E5ECF6",
            "gridcolor": "white",
            "gridwidth": 2,
            "linecolor": "white",
            "showbackground": true,
            "ticks": "",
            "zerolinecolor": "white"
           },
           "zaxis": {
            "backgroundcolor": "#E5ECF6",
            "gridcolor": "white",
            "gridwidth": 2,
            "linecolor": "white",
            "showbackground": true,
            "ticks": "",
            "zerolinecolor": "white"
           }
          },
          "shapedefaults": {
           "line": {
            "color": "#2a3f5f"
           }
          },
          "ternary": {
           "aaxis": {
            "gridcolor": "white",
            "linecolor": "white",
            "ticks": ""
           },
           "baxis": {
            "gridcolor": "white",
            "linecolor": "white",
            "ticks": ""
           },
           "bgcolor": "#E5ECF6",
           "caxis": {
            "gridcolor": "white",
            "linecolor": "white",
            "ticks": ""
           }
          },
          "title": {
           "x": 0.05
          },
          "xaxis": {
           "automargin": true,
           "gridcolor": "white",
           "linecolor": "white",
           "ticks": "",
           "title": {
            "standoff": 15
           },
           "zerolinecolor": "white",
           "zerolinewidth": 2
          },
          "yaxis": {
           "automargin": true,
           "gridcolor": "white",
           "linecolor": "white",
           "ticks": "",
           "title": {
            "standoff": 15
           },
           "zerolinecolor": "white",
           "zerolinewidth": 2
          }
         }
        },
        "title": {
         "text": "Random Walk Simulation"
        },
        "xaxis": {
         "title": {
          "text": "Steps"
         }
        },
        "yaxis": {
         "title": {
          "text": "Position"
         }
        }
       }
      }
     },
     "metadata": {},
     "output_type": "display_data"
    }
   ],
   "source": [
    "import numpy as np  \n",
    "import plotly.graph_objects as go  \n",
    "\n",
    "# Function to simulate a random walk  \n",
    "def random_walk(num_steps):  \n",
    "    steps = np.random.choice([-1, 1], size=num_steps)  \n",
    "    walk = np.cumsum(steps)  \n",
    "    return walk  \n",
    "\n",
    "# Simulate a random walk of 1,000 steps  \n",
    "walk = random_walk(1000)  \n",
    "\n",
    "# Visualize the random walk  \n",
    "fig = go.Figure()  \n",
    "fig.add_trace(go.Scatter(y=walk, mode='lines', name='Random Walk'))  \n",
    "fig.update_layout(title='Random Walk Simulation',  \n",
    "                  xaxis_title='Steps',  \n",
    "                  yaxis_title='Position')  \n",
    "fig.show()"
   ]
  }
 ],
 "metadata": {
  "kernelspec": {
   "display_name": "Python 3",
   "language": "python",
   "name": "python3"
  },
  "language_info": {
   "codemirror_mode": {
    "name": "ipython",
    "version": 3
   },
   "file_extension": ".py",
   "mimetype": "text/x-python",
   "name": "python",
   "nbconvert_exporter": "python",
   "pygments_lexer": "ipython3",
   "version": "3.13.0"
  }
 },
 "nbformat": 4,
 "nbformat_minor": 2
}
